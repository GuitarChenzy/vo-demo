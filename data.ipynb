{
 "cells": [
  {
   "cell_type": "code",
   "execution_count": 1,
   "metadata": {
    "pycharm": {
     "is_executing": false
    }
   },
   "outputs": [],
   "source": [
    "import torch\n",
    "import torch.nn as nn\n",
    "from torch.utils.data import DataLoader\n",
    "from tensorboardX import SummaryWriter\n",
    "\n",
    "import numpy as np\n",
    "from tqdm import tqdm\n",
    "\n",
    "import os\n",
    "import shutil\n",
    "import math\n",
    "\n",
    "from utils.post_process import cal_absolute_from_relative, plot_from_pose\n",
    "from utils.misc import to_var, adjust_learning_rate, pre_create_file_train, pre_create_file_test, \\\n",
    "    display_loss_tb, display_loss_tb_val"
   ]
  },
  {
   "cell_type": "markdown",
   "metadata": {},
   "source": [
    "##### load path"
   ]
  },
  {
   "cell_type": "code",
   "execution_count": 2,
   "metadata": {
    "pycharm": {
     "is_executing": false
    }
   },
   "outputs": [],
   "source": [
    "dir_data = '/media/czy/DATA/Share/Kitti/color'\n",
    "dir_label = './dataset'\n",
    "model_dir = './model'\n",
    "log_dir = './log'\n",
    "args_phase = 'Train'\n",
    "args_beta = 10\n",
    "args_epoch_save  = 2"
   ]
  },
  {
   "cell_type": "code",
   "execution_count": 3,
   "metadata": {
    "pycharm": {
     "is_executing": false
    }
   },
   "outputs": [],
   "source": [
    "from net.cnn import Net\n",
    "from dataset.kitti import KITTIDataSet"
   ]
  },
  {
   "cell_type": "code",
   "execution_count": 4,
   "metadata": {
    "collapsed": false,
    "pycharm": {
     "is_executing": false,
     "name": "#%%\n"
    }
   },
   "outputs": [
    {
     "name": "stderr",
     "output_type": "stream",
     "text": [
      "/home/czy/Projects/pyproject/vo-demo/net/cnn.py:68: UserWarning: nn.init.xavier_normal is now deprecated in favor of nn.init.xavier_normal_.\n",
      "  xavier_normal(m.weight.data)\n"
     ]
    },
    {
     "name": "stdout",
     "output_type": "stream",
     "text": [
      "Using GPU Device!\n"
     ]
    }
   ],
   "source": [
    "torch.set_default_tensor_type('torch.FloatTensor')\n",
    "model = Net()\n",
    "if torch.cuda.is_available():\n",
    "    print(\"Using GPU Device!\")\n",
    "    model = nn.DataParallel(model.cuda())\n",
    "else:\n",
    "    print(\"Using CPU Device!\")"
   ]
  },
  {
   "cell_type": "code",
   "execution_count": 5,
   "metadata": {
    "collapsed": false,
    "pycharm": {
     "name": "#%%\n"
    }
   },
   "outputs": [],
   "source": [
    "dir_models = model_dir + '/cnn'\n",
    "dir_logs = log_dir + '/cnn'\n",
    "dir_model = dir_models + '/' + '20220321'\n",
    "dir_log = dir_logs + '/' + '20220321'\n",
    "# if not os.path.exists(dir_models):\n",
    "#     os.mkdir(dir_models)\n",
    "# if not os.path.exists(dir_logs):\n",
    "#     os.mkdir(dir_logs)\n",
    "# if not os.path.exists(dir_model):\n",
    "#     os.mkdir(dir_model)\n",
    "# if os.path.exists(dir_log):\n",
    "#     shutil.rmtree(dir_log)\n",
    "# os.mkdir(dir_log)\n"
   ]
  },
  {
   "cell_type": "code",
   "execution_count": 6,
   "metadata": {},
   "outputs": [],
   "source": [
    "writer = SummaryWriter(dir_log)\n",
    "loss_func = nn.MSELoss()\n",
    "optimizer = torch.optim.Adam(model.parameters(),lr=1e-4)"
   ]
  },
  {
   "cell_type": "code",
   "execution_count": 23,
   "metadata": {},
   "outputs": [],
   "source": [
    "data_set_t = KITTIDataSet(dir_data=dir_data,dir_label=dir_label,samples='i0',phase='Train')\n",
    "data_set_v = KITTIDataSet(dir_data=dir_data, dir_label=dir_label, phase='Valid')\n",
    "loader_t = DataLoader(data_set_t, batch_size=2, shuffle=True, num_workers=1)\n",
    "loader_v = DataLoader(data_set_v, batch_size=2, shuffle=False, num_workers=1)"
   ]
  },
  {
   "cell_type": "code",
   "execution_count": 24,
   "metadata": {},
   "outputs": [
    {
     "data": {
      "text/plain": [
       "(2270, 756)"
      ]
     },
     "execution_count": 24,
     "metadata": {},
     "output_type": "execute_result"
    }
   ],
   "source": [
    "step_per_epoch = int(math.floor(len(data_set_t) / loader_t.batch_size))\n",
    "step_val = int(math.floor(step_per_epoch / 3)) \n",
    "step_per_epoch,step_val\n"
   ]
  },
  {
   "cell_type": "code",
   "execution_count": 25,
   "metadata": {},
   "outputs": [],
   "source": [
    "def adjust_learning_rate(optimizer, epoch, lr_base, gamma=0.316, epoch_lr_decay=25):\n",
    "    \"\"\"\n",
    "    自动调整学习率\n",
    "    :param optimizer: 优化方法\n",
    "    :param epoch: 迭代次数\n",
    "    :param lr_base: 基础学习率\n",
    "    :param gamma: gamma值\n",
    "    :param epoch_lr_decay: 速率衰减次数\n",
    "    :return:\n",
    "    \"\"\"\n",
    "    \"\"\"\n",
    "        epoch       lr\n",
    "        000-025     1e-4\n",
    "        025-050     3e-5\n",
    "        050-075     1e-5\n",
    "        075-100     3e-6\n",
    "        100-125     1e-6\n",
    "        125-150     3e-7\n",
    "    \"\"\"\n",
    "\n",
    "    exp = int(math.floor(epoch / epoch_lr_decay))\n",
    "    lr_decay = gamma ** exp\n",
    "    for param_group in optimizer.param_groups:\n",
    "        param_group['lr'] = lr_decay * lr_base"
   ]
  },
  {
   "cell_type": "code",
   "execution_count": 26,
   "metadata": {},
   "outputs": [
    {
     "ename": "RuntimeError",
     "evalue": "CUDA out of memory. Tried to allocate 12.00 MiB (GPU 0; 5.81 GiB total capacity; 4.87 GiB already allocated; 10.62 MiB free; 4.89 GiB reserved in total by PyTorch)",
     "output_type": "error",
     "traceback": [
      "\u001b[0;31m---------------------------------------------------------------------------\u001b[0m",
      "\u001b[0;31mRuntimeError\u001b[0m                              Traceback (most recent call last)",
      "\u001b[0;32m<ipython-input-26-7df22d105d11>\u001b[0m in \u001b[0;36m<module>\u001b[0;34m\u001b[0m\n\u001b[1;32m      7\u001b[0m     \u001b[0;32mfor\u001b[0m \u001b[0mstep\u001b[0m\u001b[0;34m,\u001b[0m \u001b[0msample_t\u001b[0m \u001b[0;32min\u001b[0m \u001b[0menumerate\u001b[0m\u001b[0;34m(\u001b[0m\u001b[0mloader_t\u001b[0m\u001b[0;34m)\u001b[0m\u001b[0;34m:\u001b[0m\u001b[0;34m\u001b[0m\u001b[0;34m\u001b[0m\u001b[0m\n\u001b[1;32m      8\u001b[0m         \u001b[0mstep_global\u001b[0m \u001b[0;34m=\u001b[0m \u001b[0mepoch\u001b[0m \u001b[0;34m*\u001b[0m \u001b[0mstep_per_epoch\u001b[0m \u001b[0;34m+\u001b[0m \u001b[0mstep\u001b[0m\u001b[0;34m\u001b[0m\u001b[0;34m\u001b[0m\u001b[0m\n\u001b[0;32m----> 9\u001b[0;31m         \u001b[0mimg1\u001b[0m \u001b[0;34m=\u001b[0m \u001b[0mto_var\u001b[0m\u001b[0;34m(\u001b[0m\u001b[0msample_t\u001b[0m\u001b[0;34m[\u001b[0m\u001b[0;34m'img1'\u001b[0m\u001b[0;34m]\u001b[0m\u001b[0;34m)\u001b[0m\u001b[0;34m\u001b[0m\u001b[0;34m\u001b[0m\u001b[0m\n\u001b[0m\u001b[1;32m     10\u001b[0m         \u001b[0mimg2\u001b[0m \u001b[0;34m=\u001b[0m \u001b[0mto_var\u001b[0m\u001b[0;34m(\u001b[0m\u001b[0msample_t\u001b[0m\u001b[0;34m[\u001b[0m\u001b[0;34m'img2'\u001b[0m\u001b[0;34m]\u001b[0m\u001b[0;34m)\u001b[0m\u001b[0;34m\u001b[0m\u001b[0;34m\u001b[0m\u001b[0m\n\u001b[1;32m     11\u001b[0m         \u001b[0mlabel_pre\u001b[0m \u001b[0;34m=\u001b[0m \u001b[0mmodel\u001b[0m\u001b[0;34m(\u001b[0m\u001b[0mimg1\u001b[0m\u001b[0;34m,\u001b[0m \u001b[0mimg2\u001b[0m\u001b[0;34m)\u001b[0m\u001b[0;34m\u001b[0m\u001b[0;34m\u001b[0m\u001b[0m\n",
      "\u001b[0;32m~/Projects/pyproject/vo-demo/utils/misc.py\u001b[0m in \u001b[0;36mto_var\u001b[0;34m(x)\u001b[0m\n\u001b[1;32m     64\u001b[0m     \"\"\"\n\u001b[1;32m     65\u001b[0m     \u001b[0;32mif\u001b[0m \u001b[0mtorch\u001b[0m\u001b[0;34m.\u001b[0m\u001b[0mcuda\u001b[0m\u001b[0;34m.\u001b[0m\u001b[0mis_available\u001b[0m\u001b[0;34m(\u001b[0m\u001b[0;34m)\u001b[0m\u001b[0;34m:\u001b[0m\u001b[0;34m\u001b[0m\u001b[0;34m\u001b[0m\u001b[0m\n\u001b[0;32m---> 66\u001b[0;31m         \u001b[0;32mreturn\u001b[0m \u001b[0mVariable\u001b[0m\u001b[0;34m(\u001b[0m\u001b[0mx\u001b[0m\u001b[0;34m)\u001b[0m\u001b[0;34m.\u001b[0m\u001b[0mcuda\u001b[0m\u001b[0;34m(\u001b[0m\u001b[0;34m)\u001b[0m\u001b[0;34m\u001b[0m\u001b[0;34m\u001b[0m\u001b[0m\n\u001b[0m\u001b[1;32m     67\u001b[0m     \u001b[0;32melse\u001b[0m\u001b[0;34m:\u001b[0m\u001b[0;34m\u001b[0m\u001b[0;34m\u001b[0m\u001b[0m\n\u001b[1;32m     68\u001b[0m         \u001b[0;32mreturn\u001b[0m \u001b[0mVariable\u001b[0m\u001b[0;34m(\u001b[0m\u001b[0mx\u001b[0m\u001b[0;34m)\u001b[0m\u001b[0;34m\u001b[0m\u001b[0;34m\u001b[0m\u001b[0m\n",
      "\u001b[0;31mRuntimeError\u001b[0m: CUDA out of memory. Tried to allocate 12.00 MiB (GPU 0; 5.81 GiB total capacity; 4.87 GiB already allocated; 10.62 MiB free; 4.89 GiB reserved in total by PyTorch)"
     ]
    }
   ],
   "source": [
    "for epoch in np.arange(5):\n",
    "    adjust_learning_rate(optimizer, epoch, lr_base=1e-4)\n",
    "    if epoch != 0 and epoch % 2 == 0:\n",
    "        print(\"test sequence and plot trajectory!\")\n",
    "        # run_test(model,seq=9,dir_model = dir_model,epoch=epoch)\n",
    "    model.train()\n",
    "    for step, sample_t in enumerate(loader_t):\n",
    "        step_global = epoch * step_per_epoch + step\n",
    "        img1 = to_var(sample_t['img1'])\n",
    "        img2 = to_var(sample_t['img2'])\n",
    "        label_pre = model(img1, img2)\n",
    "\n",
    "        label = to_var(sample_t['label'])\n",
    "        label = label.view(-1, 6)\n",
    "        loss1 = loss_func(label_pre[:, :3], label[:, :3])\n",
    "        loss2 = loss_func(label_pre[:, 3:], label[:, 3:])\n",
    "        loss = loss1 + args_beta * loss2\n",
    "\n",
    "        print(\"epoch: {:03d} \\t step: {:d} \\t 'step_per_epoch:' {:d} \\t t_loss: {:.4f} \\t r_loss: {:.4f} loss:{:.4f}\"\n",
    "              .format(epoch+1, step+1, step_per_epoch, loss1, loss2, loss))\n",
    "\n",
    "        optimizer.zero_grad()\n",
    "        loss.backward()\n",
    "        optimizer.step()\n",
    "\n",
    "        if (epoch + 1) % args_epoch_save == 0:\n",
    "            print(\n",
    "                '\\nSaving model: {:s}/model-{:d}.pkl'.format(dir_model, epoch + 1))\n",
    "            torch.save(model.state_dict(), (dir_model +\n",
    "                       '/model-{:d}.pkl'.format(epoch + 1)))\n"
   ]
  },
  {
   "cell_type": "code",
   "execution_count": null,
   "metadata": {},
   "outputs": [],
   "source": []
  }
 ],
 "metadata": {
  "interpreter": {
   "hash": "180931a809988ebfa500b5fb6b38d28ed74bb810c73de2b4b00e5a3f91a890d9"
  },
  "kernelspec": {
   "display_name": "Pytorch",
   "language": "python",
   "name": "python3"
  },
  "language_info": {
   "codemirror_mode": {
    "name": "ipython",
    "version": 3
   },
   "file_extension": ".py",
   "mimetype": "text/x-python",
   "name": "python",
   "nbconvert_exporter": "python",
   "pygments_lexer": "ipython3",
   "version": "3.8.5"
  },
  "orig_nbformat": 4,
  "pycharm": {
   "stem_cell": {
    "cell_type": "raw",
    "metadata": {
     "collapsed": false
    },
    "source": []
   }
  }
 },
 "nbformat": 4,
 "nbformat_minor": 2
}
